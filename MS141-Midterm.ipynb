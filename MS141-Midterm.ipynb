{
 "cells": [
  {
   "cell_type": "markdown",
   "metadata": {},
   "source": [
    "# Dataframes and Visualization with Pandas and Altair\n",
    "\n",
    "## Last Updated: May 6th, 2021\n",
    "\n",
    "This document was prepared by Bannhat, Sophie Howell, and Robin McDonald"
   ]
  },
  {
   "cell_type": "code",
   "execution_count": 2,
   "metadata": {},
   "outputs": [],
   "source": [
    "import numpy as np               # general math operations\n",
    "import matplotlib.pyplot as plt  # general plotting"
   ]
  },
  {
   "cell_type": "markdown",
   "metadata": {},
   "source": [
    "In your Anaconda Prompt, please install the following: <br>\n",
    "pip install pandas  <br>\n",
    "pip install altair vega_datasets"
   ]
  },
  {
   "cell_type": "markdown",
   "metadata": {},
   "source": [
    "# Panadas\n",
    "[Pandas](https://pandas.pydata.org/) is a common library used for data manipulation and analysis in python. It provides a way to import a file such as a .csv or Microsoft Excel sheet into a table-like structure they call a `Dataframe` and clean up the data. It is then easy to use another package (such as altair) to easily plot data from the dataframe. <br>\n",
    "Following a standard convention, we import `pandas` as `pd`."
   ]
  },
  {
   "cell_type": "code",
   "execution_count": 3,
   "metadata": {},
   "outputs": [],
   "source": [
    "import pandas as pd              # pandas dataframes"
   ]
  },
  {
   "cell_type": "markdown",
   "metadata": {},
   "source": [
    "Online resources include the documentation from [Pandas](https://pandas.pydata.org/pandas-docs/stable/reference/index.html) as well as many online tutorials."
   ]
  },
  {
   "cell_type": "markdown",
   "metadata": {},
   "source": [
    "## Basics of Data Importation:\n",
    "\n",
    "1. Export data as a .csv. For less memory usage, clean up the data before exportation.\n",
    "2. Use `df=pd.read_csv(fileName)` to import your data frame. Here you can also selectively import data, choose a different seperation style such as '\\t' for tab, '\\s+' for multiple spaces, or the default ',' for commas, and rename/index each column/row.\n",
    "3. See your truncated Dataframe by`df.head()`. You can input an int within () to see that many rows.\n",
    "6. If desired, save the file as `df.to_csv(filename)`.\n",
    "\n",
    "Note, there are ways to directly import an excel file using df = pd.read_excel(\"sample.xlsx\")"
   ]
  },
  {
   "cell_type": "code",
   "execution_count": 6,
   "metadata": {},
   "outputs": [
    {
     "data": {
      "text/html": [
       "<div>\n",
       "<style scoped>\n",
       "    .dataframe tbody tr th:only-of-type {\n",
       "        vertical-align: middle;\n",
       "    }\n",
       "\n",
       "    .dataframe tbody tr th {\n",
       "        vertical-align: top;\n",
       "    }\n",
       "\n",
       "    .dataframe thead th {\n",
       "        text-align: right;\n",
       "    }\n",
       "</style>\n",
       "<table border=\"1\" class=\"dataframe\">\n",
       "  <thead>\n",
       "    <tr style=\"text-align: right;\">\n",
       "      <th></th>\n",
       "      <th>Ind_Ext</th>\n",
       "      <th>Force_Ext</th>\n",
       "      <th>Ind_Ret</th>\n",
       "      <th>Force_Ret</th>\n",
       "      <th>Ind_Away</th>\n",
       "      <th>Force_Away</th>\n",
       "      <th>Ind_Ext2</th>\n",
       "      <th>Force_Ext2</th>\n",
       "      <th>IndentXWave</th>\n",
       "      <th>IndentFitWave</th>\n",
       "    </tr>\n",
       "  </thead>\n",
       "  <tbody>\n",
       "    <tr>\n",
       "      <th>0</th>\n",
       "      <td>-0.000001</td>\n",
       "      <td>-5.270000e-10</td>\n",
       "      <td>3.190000e-08</td>\n",
       "      <td>4.780000e-08</td>\n",
       "      <td>-0.000001</td>\n",
       "      <td>4.390000e-09</td>\n",
       "      <td>3.890000e-09</td>\n",
       "      <td>2.420000e-09</td>\n",
       "      <td>-0.000001</td>\n",
       "      <td>0.0</td>\n",
       "    </tr>\n",
       "    <tr>\n",
       "      <th>1</th>\n",
       "      <td>-0.000001</td>\n",
       "      <td>-6.150000e-10</td>\n",
       "      <td>3.220000e-08</td>\n",
       "      <td>4.920000e-08</td>\n",
       "      <td>-0.000001</td>\n",
       "      <td>4.470000e-09</td>\n",
       "      <td>3.190000e-08</td>\n",
       "      <td>4.780000e-08</td>\n",
       "      <td>-0.000001</td>\n",
       "      <td>0.0</td>\n",
       "    </tr>\n",
       "    <tr>\n",
       "      <th>2</th>\n",
       "      <td>-0.000001</td>\n",
       "      <td>-8.080000e-10</td>\n",
       "      <td>3.230000e-08</td>\n",
       "      <td>4.790000e-08</td>\n",
       "      <td>-0.000001</td>\n",
       "      <td>4.340000e-09</td>\n",
       "      <td>NaN</td>\n",
       "      <td>NaN</td>\n",
       "      <td>-0.000001</td>\n",
       "      <td>0.0</td>\n",
       "    </tr>\n",
       "    <tr>\n",
       "      <th>3</th>\n",
       "      <td>-0.000001</td>\n",
       "      <td>-7.320000e-10</td>\n",
       "      <td>3.210000e-08</td>\n",
       "      <td>4.620000e-08</td>\n",
       "      <td>-0.000001</td>\n",
       "      <td>4.850000e-09</td>\n",
       "      <td>NaN</td>\n",
       "      <td>NaN</td>\n",
       "      <td>-0.000001</td>\n",
       "      <td>0.0</td>\n",
       "    </tr>\n",
       "    <tr>\n",
       "      <th>4</th>\n",
       "      <td>-0.000001</td>\n",
       "      <td>-5.500000e-10</td>\n",
       "      <td>3.170000e-08</td>\n",
       "      <td>4.440000e-08</td>\n",
       "      <td>-0.000001</td>\n",
       "      <td>4.700000e-09</td>\n",
       "      <td>NaN</td>\n",
       "      <td>NaN</td>\n",
       "      <td>-0.000001</td>\n",
       "      <td>0.0</td>\n",
       "    </tr>\n",
       "    <tr>\n",
       "      <th>5</th>\n",
       "      <td>-0.000001</td>\n",
       "      <td>-2.860000e-10</td>\n",
       "      <td>3.110000e-08</td>\n",
       "      <td>4.280000e-08</td>\n",
       "      <td>-0.000001</td>\n",
       "      <td>4.440000e-09</td>\n",
       "      <td>NaN</td>\n",
       "      <td>NaN</td>\n",
       "      <td>-0.000001</td>\n",
       "      <td>0.0</td>\n",
       "    </tr>\n",
       "    <tr>\n",
       "      <th>6</th>\n",
       "      <td>-0.000001</td>\n",
       "      <td>-1.560000e-10</td>\n",
       "      <td>3.040000e-08</td>\n",
       "      <td>4.120000e-08</td>\n",
       "      <td>-0.000001</td>\n",
       "      <td>4.900000e-09</td>\n",
       "      <td>NaN</td>\n",
       "      <td>NaN</td>\n",
       "      <td>-0.000001</td>\n",
       "      <td>0.0</td>\n",
       "    </tr>\n",
       "  </tbody>\n",
       "</table>\n",
       "</div>"
      ],
      "text/plain": [
       "    Ind_Ext     Force_Ext       Ind_Ret     Force_Ret  Ind_Away    Force_Away  \\\n",
       "0 -0.000001 -5.270000e-10  3.190000e-08  4.780000e-08 -0.000001  4.390000e-09   \n",
       "1 -0.000001 -6.150000e-10  3.220000e-08  4.920000e-08 -0.000001  4.470000e-09   \n",
       "2 -0.000001 -8.080000e-10  3.230000e-08  4.790000e-08 -0.000001  4.340000e-09   \n",
       "3 -0.000001 -7.320000e-10  3.210000e-08  4.620000e-08 -0.000001  4.850000e-09   \n",
       "4 -0.000001 -5.500000e-10  3.170000e-08  4.440000e-08 -0.000001  4.700000e-09   \n",
       "5 -0.000001 -2.860000e-10  3.110000e-08  4.280000e-08 -0.000001  4.440000e-09   \n",
       "6 -0.000001 -1.560000e-10  3.040000e-08  4.120000e-08 -0.000001  4.900000e-09   \n",
       "\n",
       "       Ind_Ext2    Force_Ext2  IndentXWave  IndentFitWave  \n",
       "0  3.890000e-09  2.420000e-09    -0.000001            0.0  \n",
       "1  3.190000e-08  4.780000e-08    -0.000001            0.0  \n",
       "2           NaN           NaN    -0.000001            0.0  \n",
       "3           NaN           NaN    -0.000001            0.0  \n",
       "4           NaN           NaN    -0.000001            0.0  \n",
       "5           NaN           NaN    -0.000001            0.0  \n",
       "6           NaN           NaN    -0.000001            0.0  "
      ]
     },
     "execution_count": 6,
     "metadata": {},
     "output_type": "execute_result"
    }
   ],
   "source": [
    "fileName = 'GrowthMedia.csv' # file is in the same folder. \n",
    "# Other ways to reference your file: 'url', 'subfolder/filename.csv', or full path (r\"C:\\Users\\Robin\\Downloads\\filename.csv\")\n",
    "\n",
    "df = pd.read_csv(fileName) # read data from file to dataframe\n",
    "df.head()# shows the first few rows up to the integer you specify inside ()"
   ]
  },
  {
   "cell_type": "markdown",
   "metadata": {},
   "source": [
    "As you can see, this data is an exported force-indentation curve from Atomic Force Microscopy software that has some unnecessary columns we will clean up."
   ]
  },
  {
   "cell_type": "code",
   "execution_count": 7,
   "metadata": {},
   "outputs": [
    {
     "data": {
      "text/html": [
       "<div>\n",
       "<style scoped>\n",
       "    .dataframe tbody tr th:only-of-type {\n",
       "        vertical-align: middle;\n",
       "    }\n",
       "\n",
       "    .dataframe tbody tr th {\n",
       "        vertical-align: top;\n",
       "    }\n",
       "\n",
       "    .dataframe thead th {\n",
       "        text-align: right;\n",
       "    }\n",
       "</style>\n",
       "<table border=\"1\" class=\"dataframe\">\n",
       "  <thead>\n",
       "    <tr style=\"text-align: right;\">\n",
       "      <th></th>\n",
       "      <th>Ind_Ext</th>\n",
       "      <th>Force_Ext</th>\n",
       "      <th>Ind_Ret</th>\n",
       "      <th>Force_Ret</th>\n",
       "      <th>IndentXWave</th>\n",
       "      <th>IndentFitWave</th>\n",
       "    </tr>\n",
       "  </thead>\n",
       "  <tbody>\n",
       "    <tr>\n",
       "      <th>0</th>\n",
       "      <td>-0.000001</td>\n",
       "      <td>-5.270000e-10</td>\n",
       "      <td>3.190000e-08</td>\n",
       "      <td>4.780000e-08</td>\n",
       "      <td>-0.000001</td>\n",
       "      <td>0.0</td>\n",
       "    </tr>\n",
       "    <tr>\n",
       "      <th>1</th>\n",
       "      <td>-0.000001</td>\n",
       "      <td>-6.150000e-10</td>\n",
       "      <td>3.220000e-08</td>\n",
       "      <td>4.920000e-08</td>\n",
       "      <td>-0.000001</td>\n",
       "      <td>0.0</td>\n",
       "    </tr>\n",
       "    <tr>\n",
       "      <th>2</th>\n",
       "      <td>-0.000001</td>\n",
       "      <td>-8.080000e-10</td>\n",
       "      <td>3.230000e-08</td>\n",
       "      <td>4.790000e-08</td>\n",
       "      <td>-0.000001</td>\n",
       "      <td>0.0</td>\n",
       "    </tr>\n",
       "    <tr>\n",
       "      <th>3</th>\n",
       "      <td>-0.000001</td>\n",
       "      <td>-7.320000e-10</td>\n",
       "      <td>3.210000e-08</td>\n",
       "      <td>4.620000e-08</td>\n",
       "      <td>-0.000001</td>\n",
       "      <td>0.0</td>\n",
       "    </tr>\n",
       "    <tr>\n",
       "      <th>4</th>\n",
       "      <td>-0.000001</td>\n",
       "      <td>-5.500000e-10</td>\n",
       "      <td>3.170000e-08</td>\n",
       "      <td>4.440000e-08</td>\n",
       "      <td>-0.000001</td>\n",
       "      <td>0.0</td>\n",
       "    </tr>\n",
       "  </tbody>\n",
       "</table>\n",
       "</div>"
      ],
      "text/plain": [
       "    Ind_Ext     Force_Ext       Ind_Ret     Force_Ret  IndentXWave  \\\n",
       "0 -0.000001 -5.270000e-10  3.190000e-08  4.780000e-08    -0.000001   \n",
       "1 -0.000001 -6.150000e-10  3.220000e-08  4.920000e-08    -0.000001   \n",
       "2 -0.000001 -8.080000e-10  3.230000e-08  4.790000e-08    -0.000001   \n",
       "3 -0.000001 -7.320000e-10  3.210000e-08  4.620000e-08    -0.000001   \n",
       "4 -0.000001 -5.500000e-10  3.170000e-08  4.440000e-08    -0.000001   \n",
       "\n",
       "   IndentFitWave  \n",
       "0            0.0  \n",
       "1            0.0  \n",
       "2            0.0  \n",
       "3            0.0  \n",
       "4            0.0  "
      ]
     },
     "execution_count": 7,
     "metadata": {},
     "output_type": "execute_result"
    }
   ],
   "source": [
    "# Delete a column/row of data based on name using df.drop\n",
    "df.drop(['Ind_Away','Force_Away','Ind_Ext2','Force_Ext2'], axis=1, inplace=True) # axis 1 for columns, axis 0 for rows\n",
    "df.head()"
   ]
  },
  {
   "cell_type": "markdown",
   "metadata": {},
   "source": [
    "## Adjustments During Import\n",
    "Alternatively, you can just import the data you need. When reading the file, specify the columns with `usecols = []` or use `skiprows = []` to not include particular rows. These both take integers with the index starting with zero. <br>\n",
    "The `header = int` allows you to adjust which row contains the names of the columns. <br>\n",
    "`names =[]` alters the names of the columns"
   ]
  },
  {
   "cell_type": "code",
   "execution_count": 8,
   "metadata": {},
   "outputs": [
    {
     "data": {
      "text/html": [
       "<div>\n",
       "<style scoped>\n",
       "    .dataframe tbody tr th:only-of-type {\n",
       "        vertical-align: middle;\n",
       "    }\n",
       "\n",
       "    .dataframe tbody tr th {\n",
       "        vertical-align: top;\n",
       "    }\n",
       "\n",
       "    .dataframe thead th {\n",
       "        text-align: right;\n",
       "    }\n",
       "</style>\n",
       "<table border=\"1\" class=\"dataframe\">\n",
       "  <thead>\n",
       "    <tr style=\"text-align: right;\">\n",
       "      <th></th>\n",
       "      <th>Ind_Ext (nm)</th>\n",
       "      <th>Force_Ext (nN)</th>\n",
       "      <th>Ind_Ret (nm)</th>\n",
       "      <th>Force_Ret (nN)</th>\n",
       "      <th>Ind_Fit (nm)</th>\n",
       "      <th>Force_Fit (nN)</th>\n",
       "    </tr>\n",
       "  </thead>\n",
       "  <tbody>\n",
       "    <tr>\n",
       "      <th>0</th>\n",
       "      <td>-0.000001</td>\n",
       "      <td>-5.270000e-10</td>\n",
       "      <td>3.190000e-08</td>\n",
       "      <td>4.780000e-08</td>\n",
       "      <td>-0.000001</td>\n",
       "      <td>0.0</td>\n",
       "    </tr>\n",
       "    <tr>\n",
       "      <th>1</th>\n",
       "      <td>-0.000001</td>\n",
       "      <td>-6.150000e-10</td>\n",
       "      <td>3.220000e-08</td>\n",
       "      <td>4.920000e-08</td>\n",
       "      <td>-0.000001</td>\n",
       "      <td>0.0</td>\n",
       "    </tr>\n",
       "    <tr>\n",
       "      <th>2</th>\n",
       "      <td>-0.000001</td>\n",
       "      <td>-8.080000e-10</td>\n",
       "      <td>3.230000e-08</td>\n",
       "      <td>4.790000e-08</td>\n",
       "      <td>-0.000001</td>\n",
       "      <td>0.0</td>\n",
       "    </tr>\n",
       "    <tr>\n",
       "      <th>3</th>\n",
       "      <td>-0.000001</td>\n",
       "      <td>-7.320000e-10</td>\n",
       "      <td>3.210000e-08</td>\n",
       "      <td>4.620000e-08</td>\n",
       "      <td>-0.000001</td>\n",
       "      <td>0.0</td>\n",
       "    </tr>\n",
       "    <tr>\n",
       "      <th>4</th>\n",
       "      <td>-0.000001</td>\n",
       "      <td>-5.500000e-10</td>\n",
       "      <td>3.170000e-08</td>\n",
       "      <td>4.440000e-08</td>\n",
       "      <td>-0.000001</td>\n",
       "      <td>0.0</td>\n",
       "    </tr>\n",
       "  </tbody>\n",
       "</table>\n",
       "</div>"
      ],
      "text/plain": [
       "   Ind_Ext (nm)  Force_Ext (nN)  Ind_Ret (nm)  Force_Ret (nN)  Ind_Fit (nm)  \\\n",
       "0     -0.000001   -5.270000e-10  3.190000e-08    4.780000e-08     -0.000001   \n",
       "1     -0.000001   -6.150000e-10  3.220000e-08    4.920000e-08     -0.000001   \n",
       "2     -0.000001   -8.080000e-10  3.230000e-08    4.790000e-08     -0.000001   \n",
       "3     -0.000001   -7.320000e-10  3.210000e-08    4.620000e-08     -0.000001   \n",
       "4     -0.000001   -5.500000e-10  3.170000e-08    4.440000e-08     -0.000001   \n",
       "\n",
       "   Force_Fit (nN)  \n",
       "0             0.0  \n",
       "1             0.0  \n",
       "2             0.0  \n",
       "3             0.0  \n",
       "4             0.0  "
      ]
     },
     "execution_count": 8,
     "metadata": {},
     "output_type": "execute_result"
    }
   ],
   "source": [
    "# Alternatively, only import needed data\n",
    "fileName = 'GrowthMedia.csv'\n",
    "df = pd.read_csv(fileName, header = 0, usecols = [0, 1, 2,3, 8,9], names=['Ind_Ext (nm)','Force_Ext (nN)','Ind_Ret (nm)','Force_Ret (nN)','Ind_Fit (nm)','Force_Fit (nN)'])\n",
    "df.head()"
   ]
  },
  {
   "cell_type": "markdown",
   "metadata": {},
   "source": [
    "Using matplotlib to plot multiple lines by specifying the columns of the data frame."
   ]
  },
  {
   "cell_type": "code",
   "execution_count": 9,
   "metadata": {},
   "outputs": [
    {
     "data": {
      "image/png": "[encoded data removed]",
      "text/plain": [
       "<Figure size 432x288 with 1 Axes>"
      ]
     },
     "metadata": {
      "needs_background": "light"
     },
     "output_type": "display_data"
    }
   ],
   "source": [
    "ax = plt.gca()\n",
    "df.plot(kind='line', x='Ind_Ext (nm)', y='Force_Ext (nN)',ax=ax)\n",
    "df.plot(kind='line',x='Ind_Ret (nm)', y='Force_Ret (nN)',ax=ax)\n",
    "plt.show()"
   ]
  },
  {
   "cell_type": "markdown",
   "metadata": {},
   "source": [
    "## Further Manipulation and Statistics\n",
    "1. Copying a portion to a new `DataFrame`\n",
    "2. Truncating based on a condition\n",
    "3. Concatenate DataFrames\n",
    "4. Creating `DataFrame` in Python\n",
    "5. Statistics (mean, median, SD, etc)\n",
    "4. Spliting into multiple lines"
   ]
  },
  {
   "cell_type": "markdown",
   "metadata": {},
   "source": [
    "1. Copying particular columns to a new `DataFrame`"
   ]
  },
  {
   "cell_type": "code",
   "execution_count": 11,
   "metadata": {},
   "outputs": [
    {
     "data": {
      "text/html": [
       "<div>\n",
       "<style scoped>\n",
       "    .dataframe tbody tr th:only-of-type {\n",
       "        vertical-align: middle;\n",
       "    }\n",
       "\n",
       "    .dataframe tbody tr th {\n",
       "        vertical-align: top;\n",
       "    }\n",
       "\n",
       "    .dataframe thead th {\n",
       "        text-align: right;\n",
       "    }\n",
       "</style>\n",
       "<table border=\"1\" class=\"dataframe\">\n",
       "  <thead>\n",
       "    <tr style=\"text-align: right;\">\n",
       "      <th></th>\n",
       "      <th>Ind_Ext (nm)</th>\n",
       "      <th>Force_Ext (nN)</th>\n",
       "      <th>Ind_Ret (nm)</th>\n",
       "      <th>Force_Ret (nN)</th>\n",
       "      <th>Ind_Fit (nm)</th>\n",
       "      <th>Force_Fit (nN)</th>\n",
       "    </tr>\n",
       "  </thead>\n",
       "  <tbody>\n",
       "    <tr>\n",
       "      <th>0</th>\n",
       "      <td>-0.000001</td>\n",
       "      <td>-5.270000e-10</td>\n",
       "      <td>3.190000e-08</td>\n",
       "      <td>4.780000e-08</td>\n",
       "      <td>-0.000001</td>\n",
       "      <td>0.0</td>\n",
       "    </tr>\n",
       "    <tr>\n",
       "      <th>1</th>\n",
       "      <td>-0.000001</td>\n",
       "      <td>-6.150000e-10</td>\n",
       "      <td>3.220000e-08</td>\n",
       "      <td>4.920000e-08</td>\n",
       "      <td>-0.000001</td>\n",
       "      <td>0.0</td>\n",
       "    </tr>\n",
       "    <tr>\n",
       "      <th>2</th>\n",
       "      <td>-0.000001</td>\n",
       "      <td>-8.080000e-10</td>\n",
       "      <td>3.230000e-08</td>\n",
       "      <td>4.790000e-08</td>\n",
       "      <td>-0.000001</td>\n",
       "      <td>0.0</td>\n",
       "    </tr>\n",
       "    <tr>\n",
       "      <th>3</th>\n",
       "      <td>-0.000001</td>\n",
       "      <td>-7.320000e-10</td>\n",
       "      <td>3.210000e-08</td>\n",
       "      <td>4.620000e-08</td>\n",
       "      <td>-0.000001</td>\n",
       "      <td>0.0</td>\n",
       "    </tr>\n",
       "    <tr>\n",
       "      <th>4</th>\n",
       "      <td>-0.000001</td>\n",
       "      <td>-5.500000e-10</td>\n",
       "      <td>3.170000e-08</td>\n",
       "      <td>4.440000e-08</td>\n",
       "      <td>-0.000001</td>\n",
       "      <td>0.0</td>\n",
       "    </tr>\n",
       "  </tbody>\n",
       "</table>\n",
       "</div>"
      ],
      "text/plain": [
       "   Ind_Ext (nm)  Force_Ext (nN)  Ind_Ret (nm)  Force_Ret (nN)  Ind_Fit (nm)  \\\n",
       "0     -0.000001   -5.270000e-10  3.190000e-08    4.780000e-08     -0.000001   \n",
       "1     -0.000001   -6.150000e-10  3.220000e-08    4.920000e-08     -0.000001   \n",
       "2     -0.000001   -8.080000e-10  3.230000e-08    4.790000e-08     -0.000001   \n",
       "3     -0.000001   -7.320000e-10  3.210000e-08    4.620000e-08     -0.000001   \n",
       "4     -0.000001   -5.500000e-10  3.170000e-08    4.440000e-08     -0.000001   \n",
       "\n",
       "   Force_Fit (nN)  \n",
       "0             0.0  \n",
       "1             0.0  \n",
       "2             0.0  \n",
       "3             0.0  \n",
       "4             0.0  "
      ]
     },
     "execution_count": 11,
     "metadata": {},
     "output_type": "execute_result"
    }
   ],
   "source": [
    "df.head()"
   ]
  },
  {
   "cell_type": "code",
   "execution_count": 12,
   "metadata": {},
   "outputs": [
    {
     "data": {
      "text/html": [
       "<div>\n",
       "<style scoped>\n",
       "    .dataframe tbody tr th:only-of-type {\n",
       "        vertical-align: middle;\n",
       "    }\n",
       "\n",
       "    .dataframe tbody tr th {\n",
       "        vertical-align: top;\n",
       "    }\n",
       "\n",
       "    .dataframe thead th {\n",
       "        text-align: right;\n",
       "    }\n",
       "</style>\n",
       "<table border=\"1\" class=\"dataframe\">\n",
       "  <thead>\n",
       "    <tr style=\"text-align: right;\">\n",
       "      <th></th>\n",
       "      <th>Ind_Ext (nm)</th>\n",
       "      <th>Force_Ext (nN)</th>\n",
       "    </tr>\n",
       "  </thead>\n",
       "  <tbody>\n",
       "    <tr>\n",
       "      <th>0</th>\n",
       "      <td>-0.000001</td>\n",
       "      <td>-5.270000e-10</td>\n",
       "    </tr>\n",
       "    <tr>\n",
       "      <th>1</th>\n",
       "      <td>-0.000001</td>\n",
       "      <td>-6.150000e-10</td>\n",
       "    </tr>\n",
       "    <tr>\n",
       "      <th>2</th>\n",
       "      <td>-0.000001</td>\n",
       "      <td>-8.080000e-10</td>\n",
       "    </tr>\n",
       "    <tr>\n",
       "      <th>3</th>\n",
       "      <td>-0.000001</td>\n",
       "      <td>-7.320000e-10</td>\n",
       "    </tr>\n",
       "    <tr>\n",
       "      <th>4</th>\n",
       "      <td>-0.000001</td>\n",
       "      <td>-5.500000e-10</td>\n",
       "    </tr>\n",
       "  </tbody>\n",
       "</table>\n",
       "</div>"
      ],
      "text/plain": [
       "   Ind_Ext (nm)  Force_Ext (nN)\n",
       "0     -0.000001   -5.270000e-10\n",
       "1     -0.000001   -6.150000e-10\n",
       "2     -0.000001   -8.080000e-10\n",
       "3     -0.000001   -7.320000e-10\n",
       "4     -0.000001   -5.500000e-10"
      ]
     },
     "execution_count": 12,
     "metadata": {},
     "output_type": "execute_result"
    }
   ],
   "source": [
    "df1 = df[['Ind_Ext (nm)','Force_Ext (nN)']].copy()\n",
    "df2 = df[['Ind_Ret (nm)','Force_Ret (nN)']].copy()\n",
    "df3 = df[['Ind_Fit (nm)','Force_Fit (nN)']].copy()\n",
    "df1.head()"
   ]
  },
  {
   "cell_type": "markdown",
   "metadata": {},
   "source": [
    "2. Next, we can truncate the DataFrame. <br>\n",
    "If a boolean condition is met, we'll keep the row in the DataFrame. In this example, we want to chop off most of the baseline before 0 nm of indentation."
   ]
  },
  {
   "cell_type": "code",
   "execution_count": 13,
   "metadata": {},
   "outputs": [
    {
     "data": {
      "image/png": "[encoded data removed]",
      "text/plain": [
       "<Figure size 432x288 with 1 Axes>"
      ]
     },
     "metadata": {
      "needs_background": "light"
     },
     "output_type": "display_data"
    }
   ],
   "source": [
    "truncatedExt = df1[(df1[\"Ind_Ext (nm)\"]>-4e-9)]\n",
    "truncatedRet = df2[(df2[\"Ind_Ret (nm)\"]>-4e-9)]\n",
    "truncatedFit = df3[(df3[\"Ind_Fit (nm)\"]>-4e-9)]\n",
    "\n",
    "# Using matplotlib.pyplot to show our manipulated data\n",
    "ax = plt.gca()\n",
    "truncatedExt.plot(kind='line', x='Ind_Ext (nm)', y='Force_Ext (nN)',ax=ax)\n",
    "truncatedRet.plot(kind='line', x='Ind_Ret (nm)', y='Force_Ret (nN)',ax=ax)\n",
    "truncatedFit.plot(x='Ind_Fit (nm)', y='Force_Fit (nN)',style='k--',ax=ax)\n",
    "plt.show()"
   ]
  },
  {
   "cell_type": "markdown",
   "metadata": {},
   "source": [
    "3. Now we can recombine our 3 DataFrames back into one table. As shown before, we can plot multiple lines from one data sheet as long as we set x and y to the appropriate column."
   ]
  },
  {
   "cell_type": "code",
   "execution_count": 14,
   "metadata": {},
   "outputs": [
    {
     "data": {
      "text/html": [
       "<div>\n",
       "<style scoped>\n",
       "    .dataframe tbody tr th:only-of-type {\n",
       "        vertical-align: middle;\n",
       "    }\n",
       "\n",
       "    .dataframe tbody tr th {\n",
       "        vertical-align: top;\n",
       "    }\n",
       "\n",
       "    .dataframe thead th {\n",
       "        text-align: right;\n",
       "    }\n",
       "</style>\n",
       "<table border=\"1\" class=\"dataframe\">\n",
       "  <thead>\n",
       "    <tr style=\"text-align: right;\">\n",
       "      <th></th>\n",
       "      <th>Ind_Ext (nm)</th>\n",
       "      <th>Force_Ext (nN)</th>\n",
       "      <th>Ind_Ret (nm)</th>\n",
       "      <th>Force_Ret (nN)</th>\n",
       "      <th>Ind_Fit (nm)</th>\n",
       "      <th>Force_Fit (nN)</th>\n",
       "    </tr>\n",
       "  </thead>\n",
       "  <tbody>\n",
       "    <tr>\n",
       "      <th>0</th>\n",
       "      <td>-0.000001</td>\n",
       "      <td>-5.270000e-10</td>\n",
       "      <td>3.190000e-08</td>\n",
       "      <td>4.780000e-08</td>\n",
       "      <td>-0.000001</td>\n",
       "      <td>0.0</td>\n",
       "    </tr>\n",
       "    <tr>\n",
       "      <th>1</th>\n",
       "      <td>-0.000001</td>\n",
       "      <td>-6.150000e-10</td>\n",
       "      <td>3.220000e-08</td>\n",
       "      <td>4.920000e-08</td>\n",
       "      <td>-0.000001</td>\n",
       "      <td>0.0</td>\n",
       "    </tr>\n",
       "    <tr>\n",
       "      <th>2</th>\n",
       "      <td>-0.000001</td>\n",
       "      <td>-8.080000e-10</td>\n",
       "      <td>3.230000e-08</td>\n",
       "      <td>4.790000e-08</td>\n",
       "      <td>-0.000001</td>\n",
       "      <td>0.0</td>\n",
       "    </tr>\n",
       "    <tr>\n",
       "      <th>3</th>\n",
       "      <td>-0.000001</td>\n",
       "      <td>-7.320000e-10</td>\n",
       "      <td>3.210000e-08</td>\n",
       "      <td>4.620000e-08</td>\n",
       "      <td>-0.000001</td>\n",
       "      <td>0.0</td>\n",
       "    </tr>\n",
       "    <tr>\n",
       "      <th>4</th>\n",
       "      <td>-0.000001</td>\n",
       "      <td>-5.500000e-10</td>\n",
       "      <td>3.170000e-08</td>\n",
       "      <td>4.440000e-08</td>\n",
       "      <td>-0.000001</td>\n",
       "      <td>0.0</td>\n",
       "    </tr>\n",
       "  </tbody>\n",
       "</table>\n",
       "</div>"
      ],
      "text/plain": [
       "   Ind_Ext (nm)  Force_Ext (nN)  Ind_Ret (nm)  Force_Ret (nN)  Ind_Fit (nm)  \\\n",
       "0     -0.000001   -5.270000e-10  3.190000e-08    4.780000e-08     -0.000001   \n",
       "1     -0.000001   -6.150000e-10  3.220000e-08    4.920000e-08     -0.000001   \n",
       "2     -0.000001   -8.080000e-10  3.230000e-08    4.790000e-08     -0.000001   \n",
       "3     -0.000001   -7.320000e-10  3.210000e-08    4.620000e-08     -0.000001   \n",
       "4     -0.000001   -5.500000e-10  3.170000e-08    4.440000e-08     -0.000001   \n",
       "\n",
       "   Force_Fit (nN)  \n",
       "0             0.0  \n",
       "1             0.0  \n",
       "2             0.0  \n",
       "3             0.0  \n",
       "4             0.0  "
      ]
     },
     "execution_count": 14,
     "metadata": {},
     "output_type": "execute_result"
    }
   ],
   "source": [
    "df_all = pd.concat([df1, df2,df3], axis=1)\n",
    "df_all.head()"
   ]
  },
  {
   "cell_type": "markdown",
   "metadata": {},
   "source": [
    "4. Creating a new `DataFrame` in pandas."
   ]
  },
  {
   "cell_type": "code",
   "execution_count": 16,
   "metadata": {},
   "outputs": [
    {
     "data": {
      "text/html": [
       "<div>\n",
       "<style scoped>\n",
       "    .dataframe tbody tr th:only-of-type {\n",
       "        vertical-align: middle;\n",
       "    }\n",
       "\n",
       "    .dataframe tbody tr th {\n",
       "        vertical-align: top;\n",
       "    }\n",
       "\n",
       "    .dataframe thead th {\n",
       "        text-align: right;\n",
       "    }\n",
       "</style>\n",
       "<table border=\"1\" class=\"dataframe\">\n",
       "  <thead>\n",
       "    <tr style=\"text-align: right;\">\n",
       "      <th></th>\n",
       "      <th>Name</th>\n",
       "      <th>Age</th>\n",
       "      <th>Movie Rating</th>\n",
       "      <th>Email</th>\n",
       "    </tr>\n",
       "  </thead>\n",
       "  <tbody>\n",
       "    <tr>\n",
       "      <th>0</th>\n",
       "      <td>Sophie</td>\n",
       "      <td>21</td>\n",
       "      <td>60</td>\n",
       "      <td>shhowell@caltech.edu</td>\n",
       "    </tr>\n",
       "    <tr>\n",
       "      <th>1</th>\n",
       "      <td>Bannhat</td>\n",
       "      <td>21</td>\n",
       "      <td>70</td>\n",
       "      <td>bphat@caltech.edu</td>\n",
       "    </tr>\n",
       "    <tr>\n",
       "      <th>2</th>\n",
       "      <td>Robin</td>\n",
       "      <td>20</td>\n",
       "      <td>76</td>\n",
       "      <td>robinmcd@caltech.edu</td>\n",
       "    </tr>\n",
       "  </tbody>\n",
       "</table>\n",
       "</div>"
      ],
      "text/plain": [
       "      Name  Age  Movie Rating                 Email\n",
       "0   Sophie   21            60  shhowell@caltech.edu\n",
       "1  Bannhat   21            70     bphat@caltech.edu\n",
       "2    Robin   20            76  robinmcd@caltech.edu"
      ]
     },
     "execution_count": 16,
     "metadata": {},
     "output_type": "execute_result"
    }
   ],
   "source": [
    "# intialise data of lists.\n",
    "data = {'Name':['Sophie', 'Bannhat', 'Robin'],\n",
    "        'Age':[21, 21, 20],\n",
    "        'Movie Rating':[60,70,76],\n",
    "        'Email':['shhowell@caltech.edu','bphat@caltech.edu','robinmcd@caltech.edu']}\n",
    "  \n",
    "# Create DataFrame\n",
    "df = pd.DataFrame(data)\n",
    "df.head()"
   ]
  },
  {
   "cell_type": "markdown",
   "metadata": {},
   "source": [
    "5. Basic statistics use `df[\"columnname\"].mean()` or `.median()`, `.max()`, `.min()`"
   ]
  },
  {
   "cell_type": "code",
   "execution_count": 17,
   "metadata": {},
   "outputs": [
    {
     "data": {
      "text/plain": [
       "20.666666666666668"
      ]
     },
     "execution_count": 17,
     "metadata": {},
     "output_type": "execute_result"
    }
   ],
   "source": [
    "df[\"Age\"].mean()"
   ]
  },
  {
   "cell_type": "code",
   "execution_count": 19,
   "metadata": {},
   "outputs": [
    {
     "data": {
      "text/html": [
       "<div>\n",
       "<style scoped>\n",
       "    .dataframe tbody tr th:only-of-type {\n",
       "        vertical-align: middle;\n",
       "    }\n",
       "\n",
       "    .dataframe tbody tr th {\n",
       "        vertical-align: top;\n",
       "    }\n",
       "\n",
       "    .dataframe thead th {\n",
       "        text-align: right;\n",
       "    }\n",
       "</style>\n",
       "<table border=\"1\" class=\"dataframe\">\n",
       "  <thead>\n",
       "    <tr style=\"text-align: right;\">\n",
       "      <th></th>\n",
       "      <th>Age</th>\n",
       "      <th>Movie Rating</th>\n",
       "    </tr>\n",
       "  </thead>\n",
       "  <tbody>\n",
       "    <tr>\n",
       "      <th>count</th>\n",
       "      <td>3.000000</td>\n",
       "      <td>3.000000</td>\n",
       "    </tr>\n",
       "    <tr>\n",
       "      <th>mean</th>\n",
       "      <td>20.666667</td>\n",
       "      <td>68.666667</td>\n",
       "    </tr>\n",
       "    <tr>\n",
       "      <th>std</th>\n",
       "      <td>0.577350</td>\n",
       "      <td>8.082904</td>\n",
       "    </tr>\n",
       "    <tr>\n",
       "      <th>min</th>\n",
       "      <td>20.000000</td>\n",
       "      <td>60.000000</td>\n",
       "    </tr>\n",
       "    <tr>\n",
       "      <th>25%</th>\n",
       "      <td>20.500000</td>\n",
       "      <td>65.000000</td>\n",
       "    </tr>\n",
       "    <tr>\n",
       "      <th>50%</th>\n",
       "      <td>21.000000</td>\n",
       "      <td>70.000000</td>\n",
       "    </tr>\n",
       "    <tr>\n",
       "      <th>75%</th>\n",
       "      <td>21.000000</td>\n",
       "      <td>73.000000</td>\n",
       "    </tr>\n",
       "    <tr>\n",
       "      <th>max</th>\n",
       "      <td>21.000000</td>\n",
       "      <td>76.000000</td>\n",
       "    </tr>\n",
       "  </tbody>\n",
       "</table>\n",
       "</div>"
      ],
      "text/plain": [
       "             Age  Movie Rating\n",
       "count   3.000000      3.000000\n",
       "mean   20.666667     68.666667\n",
       "std     0.577350      8.082904\n",
       "min    20.000000     60.000000\n",
       "25%    20.500000     65.000000\n",
       "50%    21.000000     70.000000\n",
       "75%    21.000000     73.000000\n",
       "max    21.000000     76.000000"
      ]
     },
     "execution_count": 19,
     "metadata": {},
     "output_type": "execute_result"
    }
   ],
   "source": [
    "df[[\"Age\", \"Movie Rating\"]].describe()"
   ]
  },
  {
   "cell_type": "markdown",
   "metadata": {},
   "source": [
    "6. String split breaks down entries into seperate columns."
   ]
  },
  {
   "cell_type": "code",
   "execution_count": 20,
   "metadata": {},
   "outputs": [
    {
     "data": {
      "text/html": [
       "<div>\n",
       "<style scoped>\n",
       "    .dataframe tbody tr th:only-of-type {\n",
       "        vertical-align: middle;\n",
       "    }\n",
       "\n",
       "    .dataframe tbody tr th {\n",
       "        vertical-align: top;\n",
       "    }\n",
       "\n",
       "    .dataframe thead th {\n",
       "        text-align: right;\n",
       "    }\n",
       "</style>\n",
       "<table border=\"1\" class=\"dataframe\">\n",
       "  <thead>\n",
       "    <tr style=\"text-align: right;\">\n",
       "      <th></th>\n",
       "      <th>Name</th>\n",
       "      <th>Age</th>\n",
       "      <th>Movie Rating</th>\n",
       "      <th>Email</th>\n",
       "    </tr>\n",
       "  </thead>\n",
       "  <tbody>\n",
       "    <tr>\n",
       "      <th>0</th>\n",
       "      <td>Sophie</td>\n",
       "      <td>21</td>\n",
       "      <td>60</td>\n",
       "      <td>shhowell@caltech.edu</td>\n",
       "    </tr>\n",
       "    <tr>\n",
       "      <th>1</th>\n",
       "      <td>Bannhat</td>\n",
       "      <td>21</td>\n",
       "      <td>70</td>\n",
       "      <td>bphat@caltech.edu</td>\n",
       "    </tr>\n",
       "    <tr>\n",
       "      <th>2</th>\n",
       "      <td>Robin</td>\n",
       "      <td>20</td>\n",
       "      <td>76</td>\n",
       "      <td>robinmcd@caltech.edu</td>\n",
       "    </tr>\n",
       "  </tbody>\n",
       "</table>\n",
       "</div>"
      ],
      "text/plain": [
       "      Name  Age  Movie Rating                 Email\n",
       "0   Sophie   21            60  shhowell@caltech.edu\n",
       "1  Bannhat   21            70     bphat@caltech.edu\n",
       "2    Robin   20            76  robinmcd@caltech.edu"
      ]
     },
     "execution_count": 20,
     "metadata": {},
     "output_type": "execute_result"
    }
   ],
   "source": [
    "df.head()"
   ]
  },
  {
   "cell_type": "code",
   "execution_count": 21,
   "metadata": {},
   "outputs": [
    {
     "data": {
      "text/html": [
       "<div>\n",
       "<style scoped>\n",
       "    .dataframe tbody tr th:only-of-type {\n",
       "        vertical-align: middle;\n",
       "    }\n",
       "\n",
       "    .dataframe tbody tr th {\n",
       "        vertical-align: top;\n",
       "    }\n",
       "\n",
       "    .dataframe thead th {\n",
       "        text-align: right;\n",
       "    }\n",
       "</style>\n",
       "<table border=\"1\" class=\"dataframe\">\n",
       "  <thead>\n",
       "    <tr style=\"text-align: right;\">\n",
       "      <th></th>\n",
       "      <th>User</th>\n",
       "      <th>Organization</th>\n",
       "    </tr>\n",
       "  </thead>\n",
       "  <tbody>\n",
       "    <tr>\n",
       "      <th>0</th>\n",
       "      <td>shhowell</td>\n",
       "      <td>caltech.edu</td>\n",
       "    </tr>\n",
       "    <tr>\n",
       "      <th>1</th>\n",
       "      <td>bphat</td>\n",
       "      <td>caltech.edu</td>\n",
       "    </tr>\n",
       "    <tr>\n",
       "      <th>2</th>\n",
       "      <td>robinmcd</td>\n",
       "      <td>caltech.edu</td>\n",
       "    </tr>\n",
       "  </tbody>\n",
       "</table>\n",
       "</div>"
      ],
      "text/plain": [
       "       User Organization\n",
       "0  shhowell  caltech.edu\n",
       "1     bphat  caltech.edu\n",
       "2  robinmcd  caltech.edu"
      ]
     },
     "execution_count": 21,
     "metadata": {},
     "output_type": "execute_result"
    }
   ],
   "source": [
    "split = df['Email'].str.split('@',expand=True).rename(columns={0:'User',1:'Organization'})\n",
    "split"
   ]
  },
  {
   "cell_type": "code",
   "execution_count": 22,
   "metadata": {},
   "outputs": [
    {
     "data": {
      "text/html": [
       "<div>\n",
       "<style scoped>\n",
       "    .dataframe tbody tr th:only-of-type {\n",
       "        vertical-align: middle;\n",
       "    }\n",
       "\n",
       "    .dataframe tbody tr th {\n",
       "        vertical-align: top;\n",
       "    }\n",
       "\n",
       "    .dataframe thead th {\n",
       "        text-align: right;\n",
       "    }\n",
       "</style>\n",
       "<table border=\"1\" class=\"dataframe\">\n",
       "  <thead>\n",
       "    <tr style=\"text-align: right;\">\n",
       "      <th></th>\n",
       "      <th>Name</th>\n",
       "      <th>Age</th>\n",
       "      <th>Movie Rating</th>\n",
       "      <th>Email</th>\n",
       "      <th>User</th>\n",
       "      <th>Organization</th>\n",
       "    </tr>\n",
       "  </thead>\n",
       "  <tbody>\n",
       "    <tr>\n",
       "      <th>0</th>\n",
       "      <td>Sophie</td>\n",
       "      <td>21</td>\n",
       "      <td>60</td>\n",
       "      <td>shhowell@caltech.edu</td>\n",
       "      <td>shhowell</td>\n",
       "      <td>caltech.edu</td>\n",
       "    </tr>\n",
       "    <tr>\n",
       "      <th>1</th>\n",
       "      <td>Bannhat</td>\n",
       "      <td>21</td>\n",
       "      <td>70</td>\n",
       "      <td>bphat@caltech.edu</td>\n",
       "      <td>bphat</td>\n",
       "      <td>caltech.edu</td>\n",
       "    </tr>\n",
       "    <tr>\n",
       "      <th>2</th>\n",
       "      <td>Robin</td>\n",
       "      <td>20</td>\n",
       "      <td>76</td>\n",
       "      <td>robinmcd@caltech.edu</td>\n",
       "      <td>robinmcd</td>\n",
       "      <td>caltech.edu</td>\n",
       "    </tr>\n",
       "  </tbody>\n",
       "</table>\n",
       "</div>"
      ],
      "text/plain": [
       "      Name  Age  Movie Rating                 Email      User Organization\n",
       "0   Sophie   21            60  shhowell@caltech.edu  shhowell  caltech.edu\n",
       "1  Bannhat   21            70     bphat@caltech.edu     bphat  caltech.edu\n",
       "2    Robin   20            76  robinmcd@caltech.edu  robinmcd  caltech.edu"
      ]
     },
     "execution_count": 22,
     "metadata": {},
     "output_type": "execute_result"
    }
   ],
   "source": [
    "df[['User','Organization']]=df['Email'].str.split('@',expand=True)\n",
    "df"
   ]
  },
  {
   "cell_type": "markdown",
   "metadata": {},
   "source": [
    "## Altair"
   ]
  },
  {
   "cell_type": "markdown",
   "metadata": {},
   "source": [
    "[Altair](https://altair-viz.github.io/index.html) is a visualization library based on the JSON visualization library called Vega. Please check out their example gallery below to see all kinds of different plots including geography maps, population plots, and interactive charts."
   ]
  },
  {
   "cell_type": "code",
   "execution_count": 23,
   "metadata": {},
   "outputs": [
    {
     "name": "stderr",
     "output_type": "stream",
     "text": [
      "C:\\Users\\robin\\anaconda3\\lib\\site-packages\\IPython\\core\\display.py:701: UserWarning: Consider using IPython.display.IFrame instead\n",
      "  warnings.warn(\"Consider using IPython.display.IFrame instead\")\n"
     ]
    },
    {
     "data": {
      "text/html": [
       "<iframe src=https://altair-viz.github.io/gallery/index.html width=700 height=350></iframe>"
      ],
      "text/plain": [
       "<IPython.core.display.HTML object>"
      ]
     },
     "execution_count": 23,
     "metadata": {},
     "output_type": "execute_result"
    }
   ],
   "source": [
    "from IPython.display import HTML\n",
    "HTML('<iframe src=https://altair-viz.github.io/gallery/index.html width=700 height=350></iframe>')"
   ]
  },
  {
   "cell_type": "markdown",
   "metadata": {},
   "source": [
    "Altair easily integrates with DataFrames used in Pandas, as you can just reference the data by its column names. And remember to do the following import:"
   ]
  },
  {
   "cell_type": "code",
   "execution_count": 24,
   "metadata": {},
   "outputs": [],
   "source": [
    "import altair as alt"
   ]
  },
  {
   "cell_type": "markdown",
   "metadata": {},
   "source": [
    "Note that altair allows you to read up to 5000 rows by default (to prevent large files). It is good to clean up your data first before you plot it. If you want to disable this limit, uncomment the following:"
   ]
  },
  {
   "cell_type": "code",
   "execution_count": null,
   "metadata": {},
   "outputs": [],
   "source": [
    "#alt.data_transformers.disable_max_rows()"
   ]
  },
  {
   "cell_type": "code",
   "execution_count": null,
   "metadata": {},
   "outputs": [],
   "source": []
  },
  {
   "cell_type": "code",
   "execution_count": null,
   "metadata": {},
   "outputs": [],
   "source": []
  }
 ],
 "metadata": {
  "kernelspec": {
   "display_name": "Python 3",
   "language": "python",
   "name": "python3"
  },
  "language_info": {
   "codemirror_mode": {
    "name": "ipython",
    "version": 3
   },
   "file_extension": ".py",
   "mimetype": "text/x-python",
   "name": "python",
   "nbconvert_exporter": "python",
   "pygments_lexer": "ipython3",
   "version": "3.7.6"
  }
 },
 "nbformat": 4,
 "nbformat_minor": 4
}
